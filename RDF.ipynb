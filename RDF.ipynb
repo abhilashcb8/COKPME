{
  "nbformat": 4,
  "nbformat_minor": 0,
  "metadata": {
    "colab": {
      "name": "RDF.ipynb",
      "provenance": [],
      "collapsed_sections": []
    },
    "kernelspec": {
      "name": "python3",
      "display_name": "Python 3"
    },
    "language_info": {
      "name": "python"
    }
  },
  "cells": [
    {
      "cell_type": "code",
      "metadata": {
        "colab": {
          "base_uri": "https://localhost:8080/"
        },
        "id": "Qq_LtPKU8vw2",
        "outputId": "a43ecec6-92ed-493b-d7df-5200b2547c85"
      },
      "source": [
        "import pandas as pd #for handling csv and csv contents\n",
        "!pip install rdflib\n",
        "from rdflib import Graph, Literal, RDF, URIRef, Namespace #basic RDF handling\n",
        "from rdflib.namespace import FOAF , XSD #most common namespaces\n",
        "import urllib.parse #for parsing strings to URI's"
      ],
      "execution_count": null,
      "outputs": [
        {
          "output_type": "stream",
          "text": [
            "Requirement already satisfied: rdflib in /usr/local/lib/python3.7/dist-packages (5.0.0)\n",
            "Requirement already satisfied: six in /usr/local/lib/python3.7/dist-packages (from rdflib) (1.15.0)\n",
            "Requirement already satisfied: isodate in /usr/local/lib/python3.7/dist-packages (from rdflib) (0.6.0)\n",
            "Requirement already satisfied: pyparsing in /usr/local/lib/python3.7/dist-packages (from rdflib) (2.4.7)\n"
          ],
          "name": "stdout"
        }
      ]
    },
    {
      "cell_type": "code",
      "metadata": {
        "id": "_FceqQD48vw5"
      },
      "source": [
        "# PID, name, age, Phone, pincode, category, treatment,othercomorbid conition, hospital\n",
        "\n",
        "#df = pd.read_csv(\"KDATA.csv\")\n",
        "df = pd.read_csv(\"/content/RDFDATA.csv\", encoding= 'unicode_escape')"
      ],
      "execution_count": null,
      "outputs": []
    },
    {
      "cell_type": "code",
      "metadata": {
        "id": "0qmatnsVbcjf"
      },
      "source": [
        "import urllib\n"
      ],
      "execution_count": null,
      "outputs": []
    },
    {
      "cell_type": "code",
      "metadata": {
        "colab": {
          "base_uri": "https://localhost:8080/",
          "height": 632
        },
        "id": "r4ZwgPpt8vw5",
        "outputId": "2ff325c2-d30f-4232-cce0-f48c503a18e7"
      },
      "source": [
        "df.head()"
      ],
      "execution_count": null,
      "outputs": [
        {
          "output_type": "execute_result",
          "data": {
            "text/html": [
              "<div>\n",
              "<style scoped>\n",
              "    .dataframe tbody tr th:only-of-type {\n",
              "        vertical-align: middle;\n",
              "    }\n",
              "\n",
              "    .dataframe tbody tr th {\n",
              "        vertical-align: top;\n",
              "    }\n",
              "\n",
              "    .dataframe thead th {\n",
              "        text-align: right;\n",
              "    }\n",
              "</style>\n",
              "<table border=\"1\" class=\"dataframe\">\n",
              "  <thead>\n",
              "    <tr style=\"text-align: right;\">\n",
              "      <th></th>\n",
              "      <th>Case</th>\n",
              "      <th>Date</th>\n",
              "      <th>Name</th>\n",
              "      <th>Agw</th>\n",
              "      <th>Mobile</th>\n",
              "      <th>Pincode</th>\n",
              "      <th>Patient-Category</th>\n",
              "      <th>Treatment-Provided</th>\n",
              "      <th>Comorbid-Conditions</th>\n",
              "      <th>Other-Comorbid-Conditions</th>\n",
              "      <th>Hospital</th>\n",
              "      <th>HID</th>\n",
              "      <th>District</th>\n",
              "    </tr>\n",
              "  </thead>\n",
              "  <tbody>\n",
              "    <tr>\n",
              "      <th>0</th>\n",
              "      <td>XXX000000001</td>\n",
              "      <td>27/05/2021</td>\n",
              "      <td>Lingaraj</td>\n",
              "      <td>28</td>\n",
              "      <td>9.110882e+09</td>\n",
              "      <td>560023</td>\n",
              "      <td>Covid-19-(Suspect)</td>\n",
              "      <td>Call-to-Emergency-108-for-Covid-19-testing</td>\n",
              "      <td>Others-(Mention-Disease)</td>\n",
              "      <td>Nil</td>\n",
              "      <td>PADMA-DEVAIAH-HOSPITAL-AND-RESEARCH-CENTER-</td>\n",
              "      <td>14724</td>\n",
              "      <td>Bangalore-urban</td>\n",
              "    </tr>\n",
              "    <tr>\n",
              "      <th>1</th>\n",
              "      <td>XXX000000002</td>\n",
              "      <td>27/05/2021</td>\n",
              "      <td>Sidharaju</td>\n",
              "      <td>40</td>\n",
              "      <td>9.740448e+09</td>\n",
              "      <td>560023</td>\n",
              "      <td>Covid-19-(Suspect)</td>\n",
              "      <td>Call-to-Emergency-108-for-Covid-19-testing</td>\n",
              "      <td>Others-(Mention-Disease)</td>\n",
              "      <td>Nil</td>\n",
              "      <td>PADMA-DEVAIAH-HOSPITAL-AND-RESEARCH-CENTER-</td>\n",
              "      <td>14724</td>\n",
              "      <td>Bangalore-urban</td>\n",
              "    </tr>\n",
              "    <tr>\n",
              "      <th>2</th>\n",
              "      <td>XXX000000003</td>\n",
              "      <td>27/05/2021</td>\n",
              "      <td>Rakesh</td>\n",
              "      <td>0</td>\n",
              "      <td>7.922466e+09</td>\n",
              "      <td>560023</td>\n",
              "      <td>Covid-19-(Suspect)</td>\n",
              "      <td>Call-to-Emergency-108-for-Covid-19-testing</td>\n",
              "      <td>Others-(Mention-Disease)</td>\n",
              "      <td>Nil</td>\n",
              "      <td>PADMA-DEVAIAH-HOSPITAL-AND-RESEARCH-CENTER-</td>\n",
              "      <td>14724</td>\n",
              "      <td>Bangalore-urban</td>\n",
              "    </tr>\n",
              "    <tr>\n",
              "      <th>3</th>\n",
              "      <td>XXX000000004</td>\n",
              "      <td>27/05/2021</td>\n",
              "      <td>Priyanka</td>\n",
              "      <td>25</td>\n",
              "      <td>9.945441e+09</td>\n",
              "      <td>560023</td>\n",
              "      <td>Covid-19-(Suspect)</td>\n",
              "      <td>Call-to-Emergency-108-for-Covid-19-testing</td>\n",
              "      <td>Others-(Mention-Disease)</td>\n",
              "      <td>Nil</td>\n",
              "      <td>PADMA-DEVAIAH-HOSPITAL-AND-RESEARCH-CENTER-</td>\n",
              "      <td>14724</td>\n",
              "      <td>Bangalore-urban</td>\n",
              "    </tr>\n",
              "    <tr>\n",
              "      <th>4</th>\n",
              "      <td>XXX000000005</td>\n",
              "      <td>26/05/2021</td>\n",
              "      <td>Abbas</td>\n",
              "      <td>37</td>\n",
              "      <td>9.110477e+09</td>\n",
              "      <td>576230</td>\n",
              "      <td>ILI</td>\n",
              "      <td>Medicines-prescribed-HQA</td>\n",
              "      <td>Others-(Mention-Disease)</td>\n",
              "      <td>Not-known</td>\n",
              "      <td>USHA-CLINIC-</td>\n",
              "      <td>21636</td>\n",
              "      <td>Udupi</td>\n",
              "    </tr>\n",
              "  </tbody>\n",
              "</table>\n",
              "</div>"
            ],
            "text/plain": [
              "           Case        Date  ...    HID         District\n",
              "0  XXX000000001  27/05/2021  ...  14724  Bangalore-urban\n",
              "1  XXX000000002  27/05/2021  ...  14724  Bangalore-urban\n",
              "2  XXX000000003  27/05/2021  ...  14724  Bangalore-urban\n",
              "3  XXX000000004  27/05/2021  ...  14724  Bangalore-urban\n",
              "4  XXX000000005  26/05/2021  ...  21636            Udupi\n",
              "\n",
              "[5 rows x 13 columns]"
            ]
          },
          "metadata": {
            "tags": []
          },
          "execution_count": 19
        }
      ]
    },
    {
      "cell_type": "code",
      "metadata": {
        "id": "QRyBHLVN8vw6"
      },
      "source": [
        "#g = Graph()\n",
        "#ppl = Namespace('http://example.org/people/')\n",
        "#loc = Namespace('http://mylocations.org/addresses/')\n",
        "#schema = Namespace('http://schema.org/')\n",
        "#codo = Namespace('http://www.isibang.ac.in/ns/codo')\n",
        "g = Graph()\n",
        "schema = Namespace('http://schema.org/')\n",
        "ppl = Namespace('http://example.org/people/')\n",
        "purl= Namespace('http://purl.org/NET/dc_owl2dl/terms')\n",
        "COKPME = Namespace('http://www.iiitdwd.ac.in/ACB/COKPME')"
      ],
      "execution_count": null,
      "outputs": []
    },
    {
      "cell_type": "code",
      "metadata": {
        "id": "8xO8iMy28vw6"
      },
      "source": [
        "#for index, row in df.iterrows():\n",
        "    #g.add((URIRef(ppl+Literal(row['Date'])), RDF.type, COKPME.PID))\n",
        "    #g.add((URIRef(ppl+Literal(row['Date'])), COKPME.PID, Literal(row['Date'], datatype=XSD.string) ))\n",
        "    #g.add((URIRef(ppl+Literal(row['Date'])), COKPME.Ageinyears, Literal(row['Age in years'], datatype=XSD.integer) ))\n",
        "    #g.add((URIRef(ppl+Literal(row['Date'])), COKPME.Pincode, Literal(row['Pincode'], datatype=XSD.string) ))\n",
        "    #g.add((URIRef(ppl+Literal(row['Date'])), COKPME.Diagnosisc, Literal(row['Category'], datatype=XSD.string) ))\n",
        "    #g.add((URIRef(ppl+Literal(row['Date'])), COKPME.Clinicalfindings, Literal(row['Treatment Provided'], datatype=XSD.string) ))\n",
        "    #g.add((URIRef(ppl+Literal(row['Date'])), COKPME.otherComorbidConditions , Literal(row['Comorbid Conditions'], datatype=XSD.string) ))\n",
        "    #g.add((URIRef(ppl+Literal(row['Date'])), COKPME.Hospital, Literal(row['Hospital'], datatype=XSD.string) ))\n",
        "   "
      ],
      "execution_count": null,
      "outputs": []
    },
    {
      "cell_type": "code",
      "metadata": {
        "id": "dApP15QZAvkw"
      },
      "source": [
        "for index, row in df.iterrows():\n",
        "    #g.add((URIRef(ppl+Literal(row['Case'])), RDF.type, FOAF.openid))\n",
        "    g.add((URIRef(COKPME+Literal(row['Case'])), RDF.type, COKPME.PID))\n",
        "    #g.add((URIRef(ppl+Literal(row['Case'])), COKPME.Patient-Category, Literal(row['Patient-Category'], datatype=XSD.string) ))\n",
        "    g.add((URIRef(ppl+Literal(row['Case'])), COKPME.hasAge, Literal(row['Agw'], datatype=XSD.integer) ))\n",
        "    g.add((URIRef(ppl+Literal(row['Case'])), COKPME.hasSymptom, Literal(row['Other-Comorbid-Conditions'], datatype=XSD.string) ))\n",
        "    g.add((URIRef(COKPME+Literal(row['Treatment-Provided'])), COKPME.hasDiagnoisedFor, Literal(row['Patient-Category'], datatype=XSD.string) ))\n",
        "    g.add((URIRef(ppl+Literal(row['Case'])), COKPME.hasAdmittedTo, Literal(row['HID'], datatype=XSD.string) ))\n"
      ],
      "execution_count": null,
      "outputs": []
    },
    {
      "cell_type": "code",
      "metadata": {
        "id": "6EKTIRft8vw6",
        "colab": {
          "base_uri": "https://localhost:8080/"
        },
        "outputId": "89822258-cce4-4fa0-aedf-039eb31c542b"
      },
      "source": [
        "print(g.serialize(format='turtle').decode('UTF-8'))"
      ],
      "execution_count": null,
      "outputs": [
        {
          "output_type": "stream",
          "text": [
            "IOPub data rate exceeded.\n",
            "The notebook server will temporarily stop sending output\n",
            "to the client in order to avoid crashing it.\n",
            "To change this limit, set the config variable\n",
            "`--NotebookApp.iopub_data_rate_limit`.\n",
            "\n",
            "Current values:\n",
            "NotebookApp.iopub_data_rate_limit=1000000.0 (bytes/sec)\n",
            "NotebookApp.rate_limit_window=3.0 (secs)\n",
            "\n"
          ],
          "name": "stderr"
        }
      ]
    },
    {
      "cell_type": "code",
      "metadata": {
        "id": "3kipx2n18vxG"
      },
      "source": [
        "g.serialize('RDFDATA.ttl',format='turtle')"
      ],
      "execution_count": null,
      "outputs": []
    },
    {
      "cell_type": "code",
      "metadata": {
        "id": "TY_XDDsH8vxG",
        "colab": {
          "base_uri": "https://localhost:8080/"
        },
        "outputId": "5b615732-d63b-44c7-805f-608b10a7c1e0"
      },
      "source": [
        "print(g.serialize(format='xml').decode('UTF-8'))"
      ],
      "execution_count": null,
      "outputs": [
        {
          "output_type": "stream",
          "text": [
            "IOPub data rate exceeded.\n",
            "The notebook server will temporarily stop sending output\n",
            "to the client in order to avoid crashing it.\n",
            "To change this limit, set the config variable\n",
            "`--NotebookApp.iopub_data_rate_limit`.\n",
            "\n",
            "Current values:\n",
            "NotebookApp.iopub_data_rate_limit=1000000.0 (bytes/sec)\n",
            "NotebookApp.rate_limit_window=3.0 (secs)\n",
            "\n"
          ],
          "name": "stderr"
        }
      ]
    },
    {
      "cell_type": "code",
      "metadata": {
        "id": "z8MlMbgh8vxH"
      },
      "source": [
        "g.serialize('RDFDATA.xml',format='xml')"
      ],
      "execution_count": null,
      "outputs": []
    },
    {
      "cell_type": "code",
      "metadata": {
        "id": "9b9Z0Azf8vxH",
        "colab": {
          "base_uri": "https://localhost:8080/"
        },
        "outputId": "03816144-b7f4-4ae3-8fb9-881d7245ac34"
      },
      "source": [
        "print(g.serialize(format='n3').decode('UTF-8'))"
      ],
      "execution_count": null,
      "outputs": [
        {
          "output_type": "stream",
          "text": [
            "IOPub data rate exceeded.\n",
            "The notebook server will temporarily stop sending output\n",
            "to the client in order to avoid crashing it.\n",
            "To change this limit, set the config variable\n",
            "`--NotebookApp.iopub_data_rate_limit`.\n",
            "\n",
            "Current values:\n",
            "NotebookApp.iopub_data_rate_limit=1000000.0 (bytes/sec)\n",
            "NotebookApp.rate_limit_window=3.0 (secs)\n",
            "\n"
          ],
          "name": "stderr"
        }
      ]
    },
    {
      "cell_type": "code",
      "metadata": {
        "id": "wHMxzFXV8vxH"
      },
      "source": [
        "\n",
        "g.serialize('RDFDATA.n3',format='n3')"
      ],
      "execution_count": null,
      "outputs": []
    },
    {
      "cell_type": "code",
      "metadata": {
        "id": "rpMRf4pP8vxH",
        "colab": {
          "base_uri": "https://localhost:8080/"
        },
        "outputId": "d35514a9-8ee0-4504-eeef-1bdf3faf84b6"
      },
      "source": [
        "from rdflib.extras.external_graph_libs import rdflib_to_networkx_multidigraph\n",
        "!pip install networkx\n",
        "import networkx as nx\n",
        "import matplotlib.pyplot as plt"
      ],
      "execution_count": null,
      "outputs": [
        {
          "output_type": "stream",
          "text": [
            "Requirement already satisfied: networkx in /usr/local/lib/python3.7/dist-packages (2.5.1)\n",
            "Requirement already satisfied: decorator<5,>=4.3 in /usr/local/lib/python3.7/dist-packages (from networkx) (4.4.2)\n"
          ],
          "name": "stdout"
        }
      ]
    },
    {
      "cell_type": "code",
      "metadata": {
        "id": "xFMtjJFd8vxI"
      },
      "source": [
        "G = rdflib_to_networkx_multidigraph(g)"
      ],
      "execution_count": null,
      "outputs": []
    },
    {
      "cell_type": "code",
      "metadata": {
        "id": "XyqnUNXp8vxI"
      },
      "source": [
        "# Plot Networkx instance of RDF Graph\n",
        "pos = nx.spring_layout(G, scale=5)\n",
        "edge_labels = nx.get_edge_attributes(G, 'r')\n",
        "#nx.draw_networkx_edge_labels(G, pos)\n",
        "nx.draw_networkx_edge_labels(G, pos, edge_labels=edge_labels)"
      ],
      "execution_count": null,
      "outputs": []
    },
    {
      "cell_type": "code",
      "metadata": {
        "id": "uNDdbEoku0p1"
      },
      "source": [
        "nx.draw(G, with_labels=True)"
      ],
      "execution_count": null,
      "outputs": []
    }
  ]
}